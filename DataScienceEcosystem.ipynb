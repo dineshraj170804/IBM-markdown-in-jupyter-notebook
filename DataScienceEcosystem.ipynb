{
 "cells": [
  {
   "cell_type": "markdown",
   "id": "d791b51e-a605-4791-9780-1a55340354ba",
   "metadata": {},
   "source": [
    " # Data Science Tools and Ecosystem"
   ]
  },
  {
   "cell_type": "markdown",
   "id": "72f754cf-49d5-45d5-bb5f-614d3666ba3f",
   "metadata": {},
   "source": [
    "**In this notebook, Data Science Tools and Ecosystem are summarized**"
   ]
  },
  {
   "cell_type": "markdown",
   "id": "4890da68-0d89-48eb-954e-d65cd111ddb2",
   "metadata": {},
   "source": [
    "***Some of the popular languages that Data Scientists use are:***"
   ]
  },
  {
   "cell_type": "markdown",
   "id": "e1143e89-7bcb-4fdc-895a-b9cbc0876303",
   "metadata": {},
   "source": [
    "__Objectives:__"
   ]
  },
  {
   "cell_type": "markdown",
   "id": "0108cd81-5925-4846-8208-13052f96ad23",
   "metadata": {},
   "source": [
    "- python\n",
    "- SQL\n",
    "- julia\n",
    "- R"
   ]
  },
  {
   "cell_type": "markdown",
   "id": "e8abafb5-c448-4972-98c6-1632366ca42d",
   "metadata": {},
   "source": [
    "1. python\n",
    "2. R\n",
    "3. java"
   ]
  },
  {
   "cell_type": "markdown",
   "id": "9dc93120-bee2-4dde-b72f-1037039e5cd8",
   "metadata": {},
   "source": [
    "***Some of the commonly used libraries used by Data Scientists include:***"
   ]
  },
  {
   "cell_type": "markdown",
   "id": "23d68330-1507-44f4-ab0d-df9c727ed99a",
   "metadata": {},
   "source": [
    "1. Sklearn\n",
    "2. Pandas\n",
    "3. Numpy\n",
    "4. Tensorflow"
   ]
  },
  {
   "cell_type": "markdown",
   "id": "65aa647f-df12-4dd9-9438-84f15307f432",
   "metadata": {},
   "source": [
    "|Data Science Tools|\n",
    "|------------------|\n",
    "|Prediction IO|\n",
    "|Cassandra|\n",
    "|Github|"
   ]
  },
  {
   "cell_type": "markdown",
   "id": "be3c91be-945f-4b9d-9865-7e7f13741352",
   "metadata": {},
   "source": [
    "### Below are a few examples of evaluating arithmetic expressions in Python"
   ]
  },
  {
   "cell_type": "markdown",
   "id": "72ac15b2-2c40-4800-8ded-b620f3221fb4",
   "metadata": {},
   "source": [
    "This a simple arithmetic expression to mutiply then add integers"
   ]
  },
  {
   "cell_type": "code",
   "execution_count": 1,
   "id": "10582c02-3e03-45e3-ad98-660cb81f28ab",
   "metadata": {},
   "outputs": [
    {
     "data": {
      "text/plain": [
       "17"
      ]
     },
     "execution_count": 1,
     "metadata": {},
     "output_type": "execute_result"
    }
   ],
   "source": [
    "(3*4)+5"
   ]
  },
  {
   "attachments": {},
   "cell_type": "markdown",
   "id": "ac785925-0efc-4d50-b351-c319e97fd065",
   "metadata": {},
   "source": [
    "This will convert 200 minutes to hours by diving by 60"
   ]
  },
  {
   "cell_type": "code",
   "execution_count": 3,
   "id": "6bbbab51-96d7-419a-a890-0c97ffa76353",
   "metadata": {},
   "outputs": [
    {
     "name": "stdout",
     "output_type": "stream",
     "text": [
      "3.3333333333333335\n"
     ]
    }
   ],
   "source": [
    "minutes = 200\n",
    "convert_hr = minutes/60\n",
    "print(convert_hr)"
   ]
  },
  {
   "cell_type": "code",
   "execution_count": null,
   "id": "52532e4e-4a77-4746-9163-9f3abe202e32",
   "metadata": {},
   "outputs": [],
   "source": []
  }
 ],
 "metadata": {
  "kernelspec": {
   "display_name": "Python 3 (ipykernel)",
   "language": "python",
   "name": "python3"
  },
  "language_info": {
   "codemirror_mode": {
    "name": "ipython",
    "version": 3
   },
   "file_extension": ".py",
   "mimetype": "text/x-python",
   "name": "python",
   "nbconvert_exporter": "python",
   "pygments_lexer": "ipython3",
   "version": "3.12.8"
  }
 },
 "nbformat": 4,
 "nbformat_minor": 5
}
